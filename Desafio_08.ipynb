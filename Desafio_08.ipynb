{
 "cells": [
  {
   "cell_type": "markdown",
   "metadata": {
    "colab_type": "text",
    "id": "view-in-github"
   },
   "source": [
    "![](https://i.imgur.com/YX6UATs.png)"
   ]
  },
  {
   "cell_type": "markdown",
   "metadata": {
    "colab_type": "text",
    "id": "o3tkeMDNf6Jo"
   },
   "source": [
    "### Desafio 8\n",
    "\n",
    "Escreva um script Python para encontrar as 10 palavras mais longas em um arquivo de texto.\n",
    "O arquivo .txt está localizado na mesma pasta do projeto (**texto.txt**)."
   ]
  },
  {
   "cell_type": "code",
   "execution_count": 20,
   "metadata": {
    "colab": {},
    "colab_type": "code",
    "id": "ZYbqEWBG5nKx"
   },
   "outputs": [
    {
     "name": "stdout",
     "output_type": "stream",
     "text": [
      "1  :  general-purpose\n",
      "2  :  object-oriented\n",
      "3  :  comprehensive\n",
      "4  :  language.Its\n",
      "5  :  intermediate\n",
      "6  :  interpreted\n",
      "7  :  programmers\n",
      "8  :  programming\n",
      "9  :  library.The\n",
      "10  :  readability\n"
     ]
    }
   ],
   "source": [
    "#df = pd.read_csv('texto.txt', delimiter = \"\\t\")\n",
    "\n",
    "import regex\n",
    "\n",
    "df = open('texto.txt', \"r\") #abrir arquivo texto.txt\n",
    "\n",
    "text= str(df.read()) #ler e converter arquivo para tipo texto\n",
    "limpa_text = str(regex.sub('\\?|\\ |\\!|\\/|\\;|\\:|\\,|\\(|\\)|\\n', ' ', text)) #expressão regular para manter somente palavras no texto\n",
    "    \n",
    "\n",
    "for index, palavra in enumerate(sorted(set(limpa_text.split(\" \")), key=len, reverse=True)):\n",
    "    if index+1 <= 10:\n",
    "        print(index+1,\" : \",palavra)\n",
    "    else:\n",
    "        break\n"
   ]
  },
  {
   "cell_type": "code",
   "execution_count": null,
   "metadata": {},
   "outputs": [],
   "source": []
  },
  {
   "cell_type": "code",
   "execution_count": null,
   "metadata": {},
   "outputs": [],
   "source": []
  }
 ],
 "metadata": {
  "anaconda-cloud": {},
  "colab": {
   "include_colab_link": true,
   "name": "Desafio 8.ipynb",
   "provenance": []
  },
  "kernelspec": {
   "display_name": "Python 3",
   "language": "python",
   "name": "python3"
  },
  "language_info": {
   "codemirror_mode": {
    "name": "ipython",
    "version": 3
   },
   "file_extension": ".py",
   "mimetype": "text/x-python",
   "name": "python",
   "nbconvert_exporter": "python",
   "pygments_lexer": "ipython3",
   "version": "3.8.5"
  }
 },
 "nbformat": 4,
 "nbformat_minor": 1
}
