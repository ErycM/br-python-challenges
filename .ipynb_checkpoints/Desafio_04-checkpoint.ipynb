{
 "cells": [
  {
   "cell_type": "markdown",
   "metadata": {
    "colab_type": "text",
    "id": "view-in-github"
   },
   "source": [
    "![](https://i.imgur.com/YX6UATs.png)"
   ]
  },
  {
   "cell_type": "markdown",
   "metadata": {
    "colab_type": "text",
    "id": "dOqcKUYZf6JW"
   },
   "source": [
    "### Desafio 4\n",
    "\n",
    "Escreva uma função cuja entrada é uma string e a saída é outra string com as palavras em ordem inversa.\n",
    "\n",
    "Exemplo:\n",
    "\n",
    "inverte_texto(\"Python é legal\") ➞ \"legal é Python\""
   ]
  },
  {
   "cell_type": "code",
   "execution_count": 41,
   "metadata": {
    "colab": {},
    "colab_type": "code",
    "id": "I5TInJDaf6JW"
   },
   "outputs": [
    {
     "name": "stdout",
     "output_type": "stream",
     "text": [
      "teste de palavras\n",
      "palavras de teste \n"
     ]
    }
   ],
   "source": [
    "def inverte_texto(text):\n",
    "    print(text)\n",
    "    \n",
    "    posicao_primeira_palavra = text.find(\" \")+1 #+1  para incluir o espaço\n",
    "    primeira_palavra=text[ : posicao_primeira_palavra ]\n",
    "    \n",
    "    posicao_segunda_palavra = text[ posicao_primeira_palavra : ].find(\" \")\n",
    "    segunda_palavra = text[ posicao_primeira_palavra : int(posicao_primeira_palavra+posicao_segunda_palavra) ]\n",
    "    \n",
    "    posicao_terceira_palavra = posicao_primeira_palavra+posicao_segunda_palavra+1 #+1 incluindo espaço\n",
    "    terceira_palavra = text[ posicao_terceira_palavra : ]\n",
    "    \n",
    "    print(terceira_palavra+\" \"+segunda_palavra+\" \"+primeira_palavra)\n",
    "    \n",
    "    \n",
    "    \n",
    "    \n",
    "    \n",
    "    \n",
    "text=\"teste de palavras\"\n",
    "inverte_texto(text)"
   ]
  },
  {
   "cell_type": "code",
   "execution_count": null,
   "metadata": {},
   "outputs": [],
   "source": []
  },
  {
   "cell_type": "code",
   "execution_count": null,
   "metadata": {},
   "outputs": [],
   "source": []
  },
  {
   "cell_type": "code",
   "execution_count": null,
   "metadata": {},
   "outputs": [],
   "source": []
  },
  {
   "cell_type": "code",
   "execution_count": null,
   "metadata": {},
   "outputs": [],
   "source": []
  }
 ],
 "metadata": {
  "anaconda-cloud": {},
  "colab": {
   "include_colab_link": true,
   "name": "Desafio 4.ipynb",
   "provenance": []
  },
  "kernelspec": {
   "display_name": "Python 3",
   "language": "python",
   "name": "python3"
  },
  "language_info": {
   "codemirror_mode": {
    "name": "ipython",
    "version": 3
   },
   "file_extension": ".py",
   "mimetype": "text/x-python",
   "name": "python",
   "nbconvert_exporter": "python",
   "pygments_lexer": "ipython3",
   "version": "3.8.5"
  }
 },
 "nbformat": 4,
 "nbformat_minor": 1
}
