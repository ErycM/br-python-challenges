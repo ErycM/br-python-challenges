{
 "cells": [
  {
   "cell_type": "markdown",
   "metadata": {
    "colab_type": "text",
    "id": "view-in-github"
   },
   "source": [
    "![](https://i.imgur.com/YX6UATs.png)"
   ]
  },
  {
   "cell_type": "markdown",
   "metadata": {
    "colab_type": "text",
    "id": "HpvTpUBGf6Jr"
   },
   "source": [
    "### Desafio 9\n",
    "\n",
    "Escreva uma função que retorne a soma dos múltiplos de 3 e 5 entre 0 e um número limite, que vai ser utilizado como parâmetro. \\\n",
    "Por exemplo, se o limite for 20, ele retornará a soma de 3, 5, 6, 9, 10, 12, 15, 18, 20."
   ]
  },
  {
   "cell_type": "code",
   "execution_count": 32,
   "metadata": {
    "colab": {},
    "colab_type": "code",
    "id": "195C6bw-f6Js"
   },
   "outputs": [
    {
     "name": "stdout",
     "output_type": "stream",
     "text": [
      "Digite o número limite: 20\n",
      "3,5,6,9,10,12,15,18,20,\n",
      "Soma dos números: 98\n"
     ]
    }
   ],
   "source": [
    "# Seu código\n",
    "\n",
    "while(1):\n",
    "    limite = input(\"Digite o número limite: \")\n",
    "    if limite.isnumeric():\n",
    "        break\n",
    "    else:\n",
    "        print(\"Apenas números\")\n",
    "        pass\n",
    "    \n",
    "sum=0\n",
    "for num in range(int(limite)):\n",
    "    resto_3 = (num+1)%3\n",
    "    resto_5 = (num+1)%5\n",
    "    \n",
    "    if resto_3 == 0 or resto_5 == 0:\n",
    "        print(num+1, end=\",\")\n",
    "        sum=sum+num+1\n",
    " \n",
    "print(\"\\nSoma dos números: \"+str(sum))\n",
    "    \n"
   ]
  },
  {
   "cell_type": "code",
   "execution_count": null,
   "metadata": {},
   "outputs": [],
   "source": []
  },
  {
   "cell_type": "code",
   "execution_count": null,
   "metadata": {},
   "outputs": [],
   "source": []
  },
  {
   "cell_type": "code",
   "execution_count": null,
   "metadata": {},
   "outputs": [],
   "source": []
  },
  {
   "cell_type": "code",
   "execution_count": null,
   "metadata": {},
   "outputs": [],
   "source": []
  }
 ],
 "metadata": {
  "anaconda-cloud": {},
  "colab": {
   "include_colab_link": true,
   "name": "Desafio 9.ipynb",
   "provenance": []
  },
  "kernelspec": {
   "display_name": "Python 3",
   "language": "python",
   "name": "python3"
  },
  "language_info": {
   "codemirror_mode": {
    "name": "ipython",
    "version": 3
   },
   "file_extension": ".py",
   "mimetype": "text/x-python",
   "name": "python",
   "nbconvert_exporter": "python",
   "pygments_lexer": "ipython3",
   "version": "3.8.5"
  }
 },
 "nbformat": 4,
 "nbformat_minor": 1
}
