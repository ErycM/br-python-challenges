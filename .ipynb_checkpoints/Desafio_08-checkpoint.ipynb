{
 "cells": [
  {
   "cell_type": "markdown",
   "metadata": {
    "colab_type": "text",
    "id": "view-in-github"
   },
   "source": [
    "![](https://i.imgur.com/YX6UATs.png)"
   ]
  },
  {
   "cell_type": "markdown",
   "metadata": {
    "colab_type": "text",
    "id": "o3tkeMDNf6Jo"
   },
   "source": [
    "### Desafio 8\n",
    "\n",
    "Escreva um script Python para encontrar as 10 palavras mais longas em um arquivo de texto.\n",
    "O arquivo .txt está localizado na mesma pasta do projeto (**texto.txt**)."
   ]
  },
  {
   "cell_type": "code",
   "execution_count": 112,
   "metadata": {
    "colab": {},
    "colab_type": "code",
    "id": "ZYbqEWBG5nKx"
   },
   "outputs": [
    {
     "name": "stdout",
     "output_type": "stream",
     "text": [
      "Palavra 1:  object-oriented\n",
      "Palavra 2:  comprehensive\n",
      "Palavra 3:  intermediate\n",
      "Palavra 4:  programming\n",
      "Palavra 5:  management\n",
      "Palavra 6:  questions\n",
      "Palavra 7:  familiar\n",
      "Palavra 8:  section\n",
      "Palavra 9:  Python\n",
      "Palavra 10:  those\n"
     ]
    }
   ],
   "source": [
    "#df = pd.read_csv('texto.txt', delimiter = \"\\t\")\n",
    "\n",
    "import regex\n",
    "\n",
    "df = open('texto.txt', \"r\") #abrir arquivo texto.txt\n",
    "\n",
    "text= str(df.read()) #ler e converter arquivo para tipo texto\n",
    "limpa_text = str(regex.sub('\\?|\\ |\\!|\\/|\\;|\\:|\\,|\\(|\\)|\\n', '.', text)) #expressão regular para manter somente palavras no texto\n",
    "palavras_em_linhas = regex.sub('\\.{1,}', '\\n', limpa_text) #expressão recular para manter cada palavra em uma linha\n",
    "\n",
    "array_palavras = palavras_em_linhas.split() #texto para array\n",
    "\n",
    "dic_palavras = dict()\n",
    "for palavra in array_palavras:\n",
    "    dic_palavras[len(palavra)] = palavra  #criando dicionário com as palavras\n",
    "\n",
    "#print(dic_palavras)\n",
    "    \n",
    "contador=0\n",
    "for key in sorted(dic_palavras, key=None, reverse=True):  #percorrendo dicionário na ordem decrescente\n",
    "    #print(key, dic_palavras[key], end = \" \")\n",
    "    contador=contador+1\n",
    "    \n",
    "    if contador <= 10:\n",
    "        print(\"Palavra \"+str(contador)+\": \", dic_palavras[key])\n",
    "\n",
    "    \n",
    "\n",
    "    \n",
    "    \n",
    "#print(dic_palavras)"
   ]
  },
  {
   "cell_type": "code",
   "execution_count": null,
   "metadata": {},
   "outputs": [],
   "source": []
  }
 ],
 "metadata": {
  "anaconda-cloud": {},
  "colab": {
   "include_colab_link": true,
   "name": "Desafio 8.ipynb",
   "provenance": []
  },
  "kernelspec": {
   "display_name": "Python 3",
   "language": "python",
   "name": "python3"
  },
  "language_info": {
   "codemirror_mode": {
    "name": "ipython",
    "version": 3
   },
   "file_extension": ".py",
   "mimetype": "text/x-python",
   "name": "python",
   "nbconvert_exporter": "python",
   "pygments_lexer": "ipython3",
   "version": "3.8.5"
  }
 },
 "nbformat": 4,
 "nbformat_minor": 1
}
