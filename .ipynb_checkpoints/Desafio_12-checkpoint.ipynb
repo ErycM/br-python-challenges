{
 "cells": [
  {
   "cell_type": "markdown",
   "metadata": {
    "colab_type": "text",
    "id": "view-in-github"
   },
   "source": [
    "![](https://i.imgur.com/YX6UATs.png)"
   ]
  },
  {
   "cell_type": "markdown",
   "metadata": {
    "colab_type": "text",
    "id": "AYHY2YXQf6J2"
   },
   "source": [
    "### Desafio 12\n",
    "\n",
    "Escreva uma função em Python para verificar a validade de uma senha.\n",
    "\n",
    "A senha deve ter:\n",
    "\n",
    "* Pelo menos 1 letra entre [a-z] e 1 letra entre [A-Z].\n",
    "* Pelo menos 1 número entre [0-9].\n",
    "* Pelo menos 1 caractere de [$ # @].\n",
    "* Comprimento mínimo de 6 caracteres.\n",
    "* Comprimento máximo de 16 caracteres.\n",
    "\n",
    "Entradas: \"12345678\", \"J3sus0\", \"#Te5t300\", \"J*90j12374\", \"Michheeul\", \"Monk3y6\"\n",
    "\n",
    "A saída deve ser a senha e um texto indicando se a senha é válida ou inválida:\n",
    "\n",
    "```\n",
    "\"1234\" - Senha inválida\n",
    "\"Qw#1234\" - Senha válida\n",
    "```"
   ]
  },
  {
   "cell_type": "code",
   "execution_count": 68,
   "metadata": {
    "colab": {},
    "colab_type": "code",
    "id": "UGgtGYGGf6J3"
   },
   "outputs": [
    {
     "name": "stdout",
     "output_type": "stream",
     "text": [
      "12345678 é inválida\n",
      "J3sus0 é inválida\n",
      "#Te5t300 é válida\n",
      "J*90j12374 é inválida\n",
      "Michheeul é inválida\n",
      "Monk3y6 é inválida\n",
      "1234 é inválida\n",
      "Qw#1234 é válida\n"
     ]
    }
   ],
   "source": [
    "# Seu código\n",
    "senhas = [\"12345678\", \"J3sus0\", \"#Te5t300\", \"J*90j12374\", \"Michheeul\", \"Monk3y6\", \"1234\", \"Qw#1234\"]\n",
    "\n",
    "def valida_senhas(array_senhas):\n",
    "    for senha in array_senhas:\n",
    "        temNumero=False\n",
    "        temLetra=False\n",
    "        temMai= False\n",
    "        temMin = False\n",
    "        \n",
    "        if len(senha) >= 6 and len(senha) <= 16:\n",
    "            if senha.find(\"#\") != -1 or senha.find(\"$\") != -1 or senha.find(\"@\") != -1:\n",
    "                for c in senha:\n",
    "                    if c.isdigit():\n",
    "                        temNumero=True\n",
    "                    elif c.isalpha():\n",
    "                        temLetra=True\n",
    "                        \n",
    "                    if c.islower():\n",
    "                        temMin = True   \n",
    "                    elif c.isupper():\n",
    "                        temMai = True    \n",
    "                        \n",
    "        #print(temNumero,temLetra,temMai,temMin,\"\\n\", end=\" \")\n",
    "\n",
    "        if temNumero and temLetra and temMai and temMin:\n",
    "            print(senha+\" é válida\")\n",
    "        else:\n",
    "            print(senha+\" é inválida\")\n",
    "              \n",
    "valida_senhas(senhas)"
   ]
  },
  {
   "cell_type": "code",
   "execution_count": null,
   "metadata": {},
   "outputs": [],
   "source": []
  },
  {
   "cell_type": "code",
   "execution_count": null,
   "metadata": {},
   "outputs": [],
   "source": []
  }
 ],
 "metadata": {
  "anaconda-cloud": {},
  "colab": {
   "include_colab_link": true,
   "name": "Desafio 12.ipynb",
   "provenance": []
  },
  "kernelspec": {
   "display_name": "Python 3",
   "language": "python",
   "name": "python3"
  },
  "language_info": {
   "codemirror_mode": {
    "name": "ipython",
    "version": 3
   },
   "file_extension": ".py",
   "mimetype": "text/x-python",
   "name": "python",
   "nbconvert_exporter": "python",
   "pygments_lexer": "ipython3",
   "version": "3.8.5"
  }
 },
 "nbformat": 4,
 "nbformat_minor": 1
}
